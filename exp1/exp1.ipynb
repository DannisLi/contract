{
 "cells": [
  {
   "cell_type": "code",
   "execution_count": 1,
   "metadata": {
    "ExecuteTime": {
     "end_time": "2018-02-09T06:47:50.440005Z",
     "start_time": "2018-02-09T06:47:48.871124Z"
    }
   },
   "outputs": [
    {
     "name": "stderr",
     "output_type": "stream",
     "text": [
      "/home/lizimeng/python/lib/python3.6/site-packages/statsmodels/compat/pandas.py:56: FutureWarning: The pandas.core.datetools module is deprecated and will be removed in a future version. Please use the pandas.tseries module instead.\n",
      "  from pandas.core import datetools\n"
     ]
    }
   ],
   "source": [
    "import pymysql\n",
    "import pandas as pd\n",
    "import statsmodels.api as sm\n",
    "import matplotlib.pyplot as plt"
   ]
  },
  {
   "cell_type": "code",
   "execution_count": 2,
   "metadata": {
    "ExecuteTime": {
     "end_time": "2018-02-09T07:06:45.469658Z",
     "start_time": "2018-02-09T06:47:51.498948Z"
    }
   },
   "outputs": [
    {
     "name": "stderr",
     "output_type": "stream",
     "text": [
      "/home/lizimeng/python/lib/python3.6/site-packages/statsmodels/regression/linear_model.py:1386: RuntimeWarning: invalid value encountered in double_scalars\n",
      "  return 1 - self.ssr/self.centered_tss\n"
     ]
    },
    {
     "data": {
      "image/png": "[encoded data removed]",
      "text/plain": [
       "<matplotlib.figure.Figure at 0x7f599e93c240>"
      ]
     },
     "metadata": {},
     "output_type": "display_data"
    }
   ],
   "source": [
    "conn = pymysql.connect(host=\"127.0.0.1\", user=\"root\", password=\"19910501\", db=\"market\", charset=\"utf8\")\n",
    "cursor = conn.cursor()\n",
    "cursor.execute(\"select distinct vari,deli from contract_daily where deli between '1401' and '1712'\")\n",
    "contracts = cursor.fetchall()\n",
    "\n",
    "for vari,deli in contracts:\n",
    "    cursor.execute(\"select settle,volume,oi from contract_daily where vari=%s and deli=%s order by day asc\", (vari,deli))\n",
    "    df = pd.DataFrame(list(cursor.fetchall()), columns=['settle','volume','oi'])\n",
    "    for col in ['settle','volume','oi']:\n",
    "        s = df[col].values\n",
    "        # 线性回归 OLS\n",
    "        ols = sm.OLS(s[1:], sm.add_constant(s[:-1]))\n",
    "        r = ols.fit()\n",
    "        b0,b1 = r.params\n",
    "        R2 = r.rsquared\n",
    "        # 最值\n",
    "        _min = min(s) * 0.99\n",
    "        _max = max(s) * 1.01\n",
    "        # 绘制图像\n",
    "        plt.clf()\n",
    "        plt.scatter(s[:-1], s[1:], marker=\".\")\n",
    "        plt.plot([_min, _max], [b0+b1*_min, b0+b1*_max])\n",
    "        plt.savefig('./%s/%s_%s_%.2f_%.2f_%.2f.png' % (col, vari, deli, b0, b1, R2))\n",
    "\n",
    "cursor.close()\n",
    "conn.close()"
   ]
  },
  {
   "cell_type": "code",
   "execution_count": null,
   "metadata": {},
   "outputs": [],
   "source": []
  }
 ],
 "metadata": {
  "kernelspec": {
   "display_name": "Python 3",
   "language": "python",
   "name": "python3"
  },
  "language_info": {
   "codemirror_mode": {
    "name": "ipython",
    "version": 3
   },
   "file_extension": ".py",
   "mimetype": "text/x-python",
   "name": "python",
   "nbconvert_exporter": "python",
   "pygments_lexer": "ipython3",
   "version": "3.6.4"
  }
 },
 "nbformat": 4,
 "nbformat_minor": 2
}
